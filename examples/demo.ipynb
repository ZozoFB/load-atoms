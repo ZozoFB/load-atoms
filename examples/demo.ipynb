{
 "cells": [
  {
   "cell_type": "code",
   "execution_count": 1,
   "metadata": {},
   "outputs": [],
   "source": [
    "%load_ext autoreload\n",
    "%autoreload 2"
   ]
  },
  {
   "cell_type": "code",
   "execution_count": 5,
   "metadata": {},
   "outputs": [
    {
     "name": "stdout",
     "output_type": "stream",
     "text": [
      "Loaded C-GAP-17, containing 4,080 structures and 256,628 atoms.\n",
      "This dataset is licensed under https://creativecommons.org/licenses/by-nc-sa/4.0/.    \n"
     ]
    }
   ],
   "source": [
    "from load_atoms import load_dataset\n",
    "\n",
    "dataset = load_dataset(\"C-GAP-17\")"
   ]
  },
  {
   "cell_type": "code",
   "execution_count": null,
   "metadata": {},
   "outputs": [
    {
     "data": {
      "text/plain": [
       "Atoms(symbols='C64', pbc=True, cell=[9.483921, 9.483921, 9.483921], force=..., frac_pos=..., calculator=SinglePointCalculator(...))"
      ]
     },
     "execution_count": 3,
     "metadata": {},
     "output_type": "execute_result"
    }
   ],
   "source": [
    "dataset[0]"
   ]
  }
 ],
 "metadata": {
  "kernelspec": {
   "display_name": "Python 3.8.15 ('chem-data')",
   "language": "python",
   "name": "python3"
  },
  "language_info": {
   "codemirror_mode": {
    "name": "ipython",
    "version": 3
   },
   "file_extension": ".py",
   "mimetype": "text/x-python",
   "name": "python",
   "nbconvert_exporter": "python",
   "pygments_lexer": "ipython3",
   "version": "3.8.15"
  },
  "orig_nbformat": 4,
  "vscode": {
   "interpreter": {
    "hash": "22362450322d9933bebabdcc1653cc171cf7758f2a73fcbfb5007d4a0d9297f1"
   }
  }
 },
 "nbformat": 4,
 "nbformat_minor": 2
}

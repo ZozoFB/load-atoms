{
 "cells": [
  {
   "cell_type": "markdown",
   "metadata": {},
   "source": [
    "# LOAD-AtoMS\n",
    "\n",
    "_**L**arge **O**pen **A**ccess **D**atasets for **Ato**mistic **M**aterials **S**cience_\n",
    "\n",
    "This demo notebook shows how to use the `load-atoms` package to download and use datasets of atomic structures.\n",
    "\n",
    "The main function of the package is `load_atoms`:"
   ]
  },
  {
   "cell_type": "code",
   "execution_count": 1,
   "metadata": {},
   "outputs": [
    {
     "name": "stdout",
     "output_type": "stream",
     "text": [
      "Dataset C-GAP-17 not found. Downloading...\n"
     ]
    },
    {
     "name": "stderr",
     "output_type": "stream",
     "text": [
      "45.8MiB [00:00, 54.9MiB/s]                           \n"
     ]
    },
    {
     "name": "stdout",
     "output_type": "stream",
     "text": [
      "Loaded C-GAP-17, containing 4,080 structures and 256,628 atoms.\n",
      "The use of this dataset is licensed under https://creativecommons.org/licenses/by-nc-sa/4.0/.    \n"
     ]
    }
   ],
   "source": [
    "from load_atoms import load_dataset\n",
    "\n",
    "dataset = load_dataset(\"C-GAP-17\")"
   ]
  },
  {
   "cell_type": "markdown",
   "metadata": {},
   "source": [
    "\"`Datasets`\" are just lists of `ase.Atoms` objects."
   ]
  },
  {
   "cell_type": "code",
   "execution_count": 2,
   "metadata": {},
   "outputs": [
    {
     "data": {
      "text/plain": [
       "Atoms(symbols='C64', pbc=True, cell=[9.483921, 9.483921, 9.483921], force=..., frac_pos=..., calculator=SinglePointCalculator(...))"
      ]
     },
     "execution_count": 2,
     "metadata": {},
     "output_type": "execute_result"
    }
   ],
   "source": [
    "dataset[0]"
   ]
  },
  {
   "cell_type": "markdown",
   "metadata": {},
   "source": [
    "`load_atoms` also exposes some useful functions for working with datasets:"
   ]
  },
  {
   "cell_type": "code",
   "execution_count": 3,
   "metadata": {},
   "outputs": [
    {
     "data": {
      "text/plain": [
       "(3070, 1283)"
      ]
     },
     "execution_count": 3,
     "metadata": {},
     "output_type": "execute_result"
    }
   ],
   "source": [
    "from load_atoms import filter_by\n",
    "\n",
    "bulk_amo = filter_by(dataset, config_type=\"bulk_amo\")\n",
    "small = filter_by(dataset, lambda atoms: len(atoms) < 64)\n",
    "len(bulk_amo), len(small)"
   ]
  },
  {
   "cell_type": "code",
   "execution_count": 4,
   "metadata": {},
   "outputs": [
    {
     "data": {
      "text/markdown": [
       "# C-GAP-17 \n",
       "\n",
       "## Description\n",
       "\n",
       "Complete training dataset for the C-GAP-17 model. For details, see the supplementary information [here](https://www.repository.cam.ac.uk/handle/1810/262814)\n",
       "## Citation\n",
       "\n",
       "```\n",
       "@article{Deringer-17,\n",
       "    title = {Machine learning based interatomic potential for amorphous carbon},\n",
       "    doi = {10.1103/PhysRevB.95.094203},\n",
       "    volume = {95},\n",
       "    number = {9},\n",
       "    urldate = {2021-07-15},\n",
       "    journal = {Physical Review B},\n",
       "    author = {Deringer, Volker L. and Cs{\\'a}nyi, G{\\'a}bor},    \n",
       "    year = {2017},\n",
       "    pages = {094203},\n",
       "}\n",
       "```\n",
       "## License\n",
       "\n",
       "https://creativecommons.org/licenses/by-nc-sa/4.0/\n"
      ],
      "text/plain": [
       "<IPython.core.display.Markdown object>"
      ]
     },
     "metadata": {},
     "output_type": "display_data"
    }
   ],
   "source": [
    "from load_atoms import info\n",
    "\n",
    "info(\"C-GAP-17\")"
   ]
  },
  {
   "cell_type": "code",
   "execution_count": 5,
   "metadata": {},
   "outputs": [
    {
     "data": {
      "text/plain": [
       "(3264, 816)"
      ]
     },
     "execution_count": 5,
     "metadata": {},
     "output_type": "execute_result"
    }
   ],
   "source": [
    "from load_atoms import cross_validate_split\n",
    "\n",
    "train, test = cross_validate_split(dataset, fold=0, folds=5, seed=42)\n",
    "len(train), len(test)"
   ]
  }
 ],
 "metadata": {
  "kernelspec": {
   "display_name": "Python 3.8.15 ('load-atoms')",
   "language": "python",
   "name": "python3"
  },
  "language_info": {
   "codemirror_mode": {
    "name": "ipython",
    "version": 3
   },
   "file_extension": ".py",
   "mimetype": "text/x-python",
   "name": "python",
   "nbconvert_exporter": "python",
   "pygments_lexer": "ipython3",
   "version": "3.8.15"
  },
  "orig_nbformat": 4,
  "vscode": {
   "interpreter": {
    "hash": "0a9537a851476336c227c6cfce3f76abcef14bf472842da009f8502382cfa5a6"
   }
  }
 },
 "nbformat": 4,
 "nbformat_minor": 2
}
